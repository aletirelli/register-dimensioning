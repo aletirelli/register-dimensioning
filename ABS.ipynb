{
 "cells": [
  {
   "cell_type": "markdown",
   "id": "b7a302cd-c488-44f0-b0de-af1701dd2d55",
   "metadata": {
    "tags": []
   },
   "source": [
    "# Formule dimensionamento secondo il registro ABS"
   ]
  },
  {
   "cell_type": "markdown",
   "id": "9844a2d7-615c-4969-a2e4-e562164d2bca",
   "metadata": {},
   "source": [
    "## Section 3 - General\n",
    "3.7.4 Steel and aluminium plating. Larghezza del pannello è quella dei rinforzi o data dalla formula seguente, qualunque sia minore:"
   ]
  },
  {
   "cell_type": "code",
   "execution_count": null,
   "id": "732c11ae-3a5e-421a-a613-dcdbc904f25d",
   "metadata": {},
   "outputs": [],
   "source": [
    "t = 0 #[mm] spessore del pannello\n",
    "b = 0 #[mm] spazio netto tra due rinforzi\n",
    "w = 18*t + b"
   ]
  },
  {
   "cell_type": "markdown",
   "id": "bc4d4bd1-699f-46d0-b3b0-1769d8261ed4",
   "metadata": {},
   "source": [
    "## Section 8  - Design pressures"
   ]
  },
  {
   "cell_type": "code",
   "execution_count": null,
   "id": "e13b3129-7ecf-4e69-9794-f5795c519f3e",
   "metadata": {},
   "outputs": [],
   "source": []
  },
  {
   "cell_type": "markdown",
   "id": "3b5dc4e0-2cb7-4da4-bda3-fc3e2b48611a",
   "metadata": {},
   "source": [
    "## Plating"
   ]
  }
 ],
 "metadata": {
  "kernelspec": {
   "display_name": "Python 3 (ipykernel)",
   "language": "python",
   "name": "python3"
  },
  "language_info": {
   "codemirror_mode": {
    "name": "ipython",
    "version": 3
   },
   "file_extension": ".py",
   "mimetype": "text/x-python",
   "name": "python",
   "nbconvert_exporter": "python",
   "pygments_lexer": "ipython3",
   "version": "3.9.13"
  }
 },
 "nbformat": 4,
 "nbformat_minor": 5
}
