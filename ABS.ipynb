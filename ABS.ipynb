{
 "cells": [
  {
   "cell_type": "markdown",
   "id": "b7a302cd-c488-44f0-b0de-af1701dd2d55",
   "metadata": {
    "tags": []
   },
   "source": [
    "# Formule dimensionamento secondo il registro ABS"
   ]
  },
  {
   "cell_type": "markdown",
   "id": "9844a2d7-615c-4969-a2e4-e562164d2bca",
   "metadata": {},
   "source": [
    "## Section 3 - General\n",
    "3.7.4 Steel and aluminium plating. w is maximum panel width"
   ]
  },
  {
   "cell_type": "code",
   "execution_count": 16,
   "id": "732c11ae-3a5e-421a-a613-dcdbc904f25d",
   "metadata": {
    "tags": []
   },
   "outputs": [
    {
     "name": "stdout",
     "output_type": "stream",
     "text": [
      "Maximum panel width is: 480 mm\n"
     ]
    }
   ],
   "source": [
    "t = 6 #[mm] panel thickness\n",
    "w = 80*t\n",
    "print('Maximum panel width is:',w,'mm')"
   ]
  },
  {
   "cell_type": "markdown",
   "id": "39671de2-8282-4a76-818c-a153078b6a57",
   "metadata": {},
   "source": [
    "3.9 Bracket overlapping *(to be done)*"
   ]
  },
  {
   "cell_type": "markdown",
   "id": "0927e9b3-71d0-4824-b76e-55bbecc9106b",
   "metadata": {},
   "source": [
    "6.1.2 Watertight Bulkheads for vessels exceeding 15 m"
   ]
  },
  {
   "cell_type": "code",
   "execution_count": 18,
   "id": "ff0dbe0d-d947-4e35-b65c-874475aea141",
   "metadata": {},
   "outputs": [
    {
     "name": "stdout",
     "output_type": "stream",
     "text": [
      "Collision bulkhead must be at x = 19.0 m\n"
     ]
    }
   ],
   "source": [
    "#a. Collision bulkhead\n",
    "L = 20 #[m] as defined in 2.1: on the summer load line, from the foreside of the stem to the afterside of the rudder post (or centerside of the rudder stock)\n",
    "#ITA: rudder post è il dritto di poppa, skeg. Rudder stock è l'asse del timone, per una barca planante è generalmente la Lw\n",
    "wb_pos = 0.95*L #[m] 0.05L from aft\n",
    "print('Collision bulkhead must be at x =',wb_pos,'m')"
   ]
  },
  {
   "cell_type": "markdown",
   "id": "bc4d4bd1-699f-46d0-b3b0-1769d8261ed4",
   "metadata": {
    "tags": []
   },
   "source": [
    "## Section 8  - Design pressures"
   ]
  },
  {
   "cell_type": "markdown",
   "id": "fd58f91f-e480-4190-a3c7-a0f4e019ff6a",
   "metadata": {},
   "source": [
    "8.1.1 Bottom structure design pressure"
   ]
  },
  {
   "cell_type": "code",
   "execution_count": 35,
   "id": "185be117-d408-4afa-997f-47be1ad1cdac",
   "metadata": {},
   "outputs": [
    {
     "name": "stdout",
     "output_type": "stream",
     "text": [
      "Input value for Fig 8.1 is: 0.0022797927461139897\n"
     ]
    }
   ],
   "source": [
    "#BOAT INPUT DATA\n",
    "Lw = 20 #[m] waterline length\n",
    "B = 5 #[m] greatest moulded breadth\n",
    "tau = 4 #[deg] running trim, always >4\n",
    "beta = 3 #[deg] deadrise angle\n",
    "V = 30 #[kn] max design speed\n",
    "disp = 40000 #[kg] displacement\n",
    "d = 1.1 #[m] stationary draft at the middle of L from the baseline to the summer load line. Not less than 0.04L\n",
    "D = 2 #[m] molded depth at the middle of L from the baseline to the underside of main weather deck at side\n",
    "N = 1 #depends, check rule for details\n",
    "A_D = 800 #[cm2] design area. For plating it is the actual area of the shell plate panel, but not to be taken more than 2s^2\n",
    "#For longitudinal, stiffeners, transversers and girders it is the schell area supported by the longitudinal stiffener, transverse or girder, for transverses and girders the area need not to be taken less than 0.33l^2\n",
    "s = 20 #[cm] spacing of longitudinals or stiffeners\n",
    "\n",
    "A_R = 9.65*disp/d #[cm2] reference area\n",
    "N1 = 0.1\n",
    "N2 = 0.0046\n",
    "k1 = 9.8\n",
    "n = N2*(Lw/B+1.008)*tau*(50-beta)*(V**2*B**2)/disp\n",
    "print('Input value for Fig 8.1 is:',A_D/A_R)"
   ]
  },
  {
   "cell_type": "code",
   "execution_count": 36,
   "id": "aaa0ae6f-6fb7-4516-8735-ef3b35e7b44b",
   "metadata": {},
   "outputs": [
    {
     "name": "stdout",
     "output_type": "stream",
     "text": [
      "The design pressure of the plate is: 137.445664 kN/m^2\n"
     ]
    }
   ],
   "source": [
    "F_D = 1 #design area factor Fig 8.1, input with A_D/A_R\n",
    "F_V1 = 1 #vertical acceleration dist. factor Fig 8.2, input: distance of the panel along WL from the forward end of Lw\n",
    "F_V2 = 1 #vertical acceleration dist. factor Fig 8.3, input: distance of the panel along WL from the forward end of Lw\n",
    "\n",
    "##potrei scrivere la formula di questi grafici\n",
    "\n",
    "P_b = N1*disp/(Lw*B)*(1+n)*F_D*F_V1 #[kN/m2]\n",
    "P_i = 7.5*k1*N*d*F_D*F_V2 #[kN/m2]\n",
    "P_D = 9.81*(D+1.22) #[kN/m2]\n",
    "\n",
    "P_B = max(P_b, P_i, P_D)\n",
    "print('The design pressure of the plate is:',max(P_b, P_i, P_D),'kN/m^2')"
   ]
  },
  {
   "cell_type": "markdown",
   "id": "1d6a01b0-6edd-4f2f-a63a-4626b7b83515",
   "metadata": {},
   "source": [
    "8.1.2 Side structure design pressure"
   ]
  },
  {
   "cell_type": "code",
   "execution_count": 37,
   "id": "433c4337-881e-4021-a61b-dab05e3f5b26",
   "metadata": {},
   "outputs": [
    {
     "name": "stdout",
     "output_type": "stream",
     "text": [
      "The design pressure of the plate is: 37.289132800000004 kN/m^2\n"
     ]
    }
   ],
   "source": [
    "h = 1 #[m] distance from lower edge of plate panel, or cener of area supported by the longitudinal or transverse, to the freeboard or main weather deck at side, but not less than 0.5D\n",
    "#P_b as 8.1.1 but with F_V1=1 when we are forward 0.45L <------------\n",
    "\n",
    "P_S = k1*h+0.2*P_b #[kN/m2]\n",
    "print('The design pressure of the plate is:',P_S,'kN/m^2')"
   ]
  },
  {
   "cell_type": "markdown",
   "id": "29036670-a827-4c89-a9d0-5d74304817a7",
   "metadata": {},
   "source": [
    "8.1.3 Deck and deck house structure design pressure"
   ]
  },
  {
   "cell_type": "code",
   "execution_count": 38,
   "id": "ad76f3d7-dda0-4deb-8fd8-27458dae73a0",
   "metadata": {},
   "outputs": [
    {
     "name": "stdout",
     "output_type": "stream",
     "text": [
      "The design pressure of exposed main weather deck for 0.25L from forward is: 8.5 kN/m^2\n",
      "The design pressure of main weather deck inside enclosed houses is: 6.5 kN/m^2\n",
      "The design pressure of esposed superstructure deck elsewhere and internal decks is: 6.5 kN/m^2\n",
      "The design pressure of internal accomodation only decks, platform decks and house tops 2nd tier is: 3.4 kN/m^2\n"
     ]
    }
   ],
   "source": [
    "#as table\n",
    "P_d1 = 0.2*L+4.5 #[kN/m2] exposed main weather deck for 0.25L from forward\n",
    "P_d2 = 0.1*L+4.5 #[kN/m2] main weather deck inside enclosed houses\n",
    "P_d3 = 0.1*L+4.5 #[kN/m2] esposed superstructure deck elsewhere and internal decks\n",
    "P_d4 = 3.4 #[kN/m2] internal accomodation only decks, platform decks and house tops 2nd tier\n",
    "\n",
    "##interpolazione to be done\n",
    "\n",
    "print('The design pressure of exposed main weather deck for 0.25L from forward is:',P_d1,'kN/m^2')\n",
    "print('The design pressure of main weather deck inside enclosed houses is:',P_d2,'kN/m^2')\n",
    "print('The design pressure of esposed superstructure deck elsewhere and internal decks is:',P_d3,'kN/m^2')\n",
    "print('The design pressure of internal accomodation only decks, platform decks and house tops 2nd tier is:',P_d4,'kN/m^2')"
   ]
  },
  {
   "cell_type": "markdown",
   "id": "090f29e3-a9fd-42e2-9599-853a34769c56",
   "metadata": {},
   "source": [
    "8.1.4 Bulkhead structure design pressure"
   ]
  },
  {
   "cell_type": "code",
   "execution_count": 39,
   "id": "a59d9882-d6ee-4ff2-8f5f-210427581882",
   "metadata": {},
   "outputs": [
    {
     "name": "stdout",
     "output_type": "stream",
     "text": [
      "The design pressure of the bulkhead is: 19.6 kN/m^2\n"
     ]
    }
   ],
   "source": [
    "h = 2 #[m] distance from lower edge of plate panel, or cener of area supported by the stiffener, to the bulkhead deck at centerline\n",
    "P_w = k1*h #[kN/m2]\n",
    "print('The design pressure of the bulkhead is:',P_w,'kN/m^2')"
   ]
  },
  {
   "cell_type": "markdown",
   "id": "3df780de-f029-4281-b50d-fbf72a57706a",
   "metadata": {
    "tags": []
   },
   "source": [
    "# Section 9 - Hull scantlings, high speed craft\n",
    "## A - Plating\n",
    "9A.1.2 Thickness\n",
    "We use 5086 Aluminum alloy"
   ]
  },
  {
   "cell_type": "code",
   "execution_count": 43,
   "id": "6962d7cc-4b30-468b-aefa-2bc11a86dff8",
   "metadata": {},
   "outputs": [
    {
     "name": "stdout",
     "output_type": "stream",
     "text": [
      "The design thickness of the plate is: 5.835149460876665 mm\n"
     ]
    }
   ],
   "source": [
    "import math\n",
    "p = 19.6 #[kN/m2] design pressure from Section 8 <-----------\n",
    "sigma_y = 130 #[N/mm2] yeld stress of unwelded aluminum\n",
    "sigma_u = 290 #[N/mm2] ultimate tensile strength of welded aluminum\n",
    "sigma_a = (0.7*sigma_y)/(0.58*sigma_u) #[N/mm2] design stress for shell Table 9A.2\n",
    "#for shell: sigma_a = (0.7*sigma_y)/(0.58*sigma_u)\n",
    "#for fronts, sides, ends of deckhouses: sigma_a = (0.78*sigma_y)/(0.65*sigma_u)\n",
    "#for tops, decks, tank bulkheads: sigma_a = (0.5*sigma_y)/(0.42*sigma_u)\n",
    "#for watertight bulkheads: sigma_a = (0.75*sigma_y)/(0.62*sigma_u)\n",
    "q = 235/sigma_y\n",
    "k = 0.308 #plate panel aspect ratio l/s Table 9A.1 <------------\n",
    "c1 = 3.5 #factor for service and location Tale 9A.3 <-------------\n",
    "#Bottom shell: 3.5, side shell: 3.0, strength deck: 2.7\n",
    "\n",
    "t1 = s*math.sqrt((p*k)/(1000*sigma_a)) #[mm] all plating\n",
    "t2 = (c1+0.042*L)*math.sqrt(q) #[mm] strength deck and shell, L>12.2\n",
    "t3 = 0.012*s #[mm]\n",
    "t4 = 4 #[mm] for alu\n",
    "t_plating = max(t1, t2, t3, t4)\n",
    "\n",
    "print('The thickness of the plate is to be not less than:',max(t1, t2, t3, t4),'mm')"
   ]
  },
  {
   "cell_type": "markdown",
   "id": "aee93eab-9a2e-4b4d-8520-2146c9d14530",
   "metadata": {},
   "source": [
    "# B - Internals\n",
    "## 9B.1.2 Section modulus"
   ]
  },
  {
   "cell_type": "code",
   "execution_count": 44,
   "id": "d7d48679-6fd9-4bf3-b5bb-48370545acf2",
   "metadata": {},
   "outputs": [
    {
     "name": "stdout",
     "output_type": "stream",
     "text": [
      "The design section modulus of the stiffener is: 6035533.538461538 cm^3\n"
     ]
    }
   ],
   "source": [
    "p = 19.6 #[kN/m2] design pressure from Section 8 <-----------\n",
    "l = 10 #[m] length of the longitudinal stiffener, tansverse web or girdr, between supports <-----------\n",
    "#If supported by brackets, l may be measured at 0.5 bracket length\n",
    "\n",
    "SM = (83.3*p*s*l**2)/sigma_a #[cm3]\n",
    "\n",
    "#PROPORTIONS:\n",
    "#web depth to thickness ratio < 55\n",
    "#flange width to thickness ratio < 12\n",
    "\n",
    "print('The stiffener section modulus is to be not less than:',SM,'cm^3')"
   ]
  },
  {
   "cell_type": "markdown",
   "id": "7e78babd-3ac3-4644-a495-a983802af0f2",
   "metadata": {},
   "source": [
    "# Section 11 - Longitudinal strength\n",
    "# 11.2.1 a. All yachts"
   ]
  },
  {
   "cell_type": "code",
   "execution_count": 45,
   "id": "e18d7422-87b7-49e8-9e83-6cf94b6d8d70",
   "metadata": {},
   "outputs": [
    {
     "name": "stdout",
     "output_type": "stream",
     "text": [
      "The design hull girder section modulus at amidship is to be not less than: 5054.887384615386 cm^2-m\n"
     ]
    }
   ],
   "source": [
    "C1 = 3.65*(L/10)**2-20.37*(L/10)+37.38 #L between 12 and 25\n",
    "# C1 = 3.65*(L/10)**2-20.37*(L/10)+37.38 L between 25 and 45\n",
    "# C1 = 6.3 L betweem 45 and 61\n",
    "Cb = 0.7 #at design draft measured on the design load waterline, >45 for length <35, >0.6 for length >61, interpolated in the middle\n",
    "C = 0.9 #for alu vessel\n",
    "q6 = 115/sigma_y\n",
    "Q = 0.9+q6 #for alu vessel\n",
    "\n",
    "SM = 0.1*C1*L**2*B*(Cb+0.7)*C*Q #[cm2-l] che cazzo di unità di misura è ??????\n",
    "print('The design hull girder section modulus at amidship is to be not less than:',SM,'cm^2-m')"
   ]
  },
  {
   "cell_type": "markdown",
   "id": "22bdada9-f0f7-45b1-a383-5cfc81ada6d7",
   "metadata": {},
   "source": [
    "# 11.2.1 b. High speed yachts, > 25 knots"
   ]
  },
  {
   "cell_type": "code",
   "execution_count": 47,
   "id": "6bd5fb7e-f69f-4535-990a-85618369c552",
   "metadata": {},
   "outputs": [
    {
     "name": "stdout",
     "output_type": "stream",
     "text": [
      "The design hull girder section modulus at amidship is to be not less than: -48671.328671328665 cm^2-m\n"
     ]
    }
   ],
   "source": [
    "yF = 0 #[m/sec2] vertical accelation at forward end, average 1/10 highest\n",
    "yG = 0 #[m/sec2] vertical accelation at longitudinal center of gravity, average 1/10 highest\n",
    "yA = 0 #[m/sec2] vertical accelation at aft end, average 1/10 highest\n",
    "g = 9.806 #[m/sec2]\n",
    "C2 = 1320\n",
    "\n",
    "SM1 = (disp*Lw)/C2*(128*yF/g-178*yG/g-50)*C*Q #[cm2-m]\n",
    "SM2 = (disp*Lw)/C2*(78*yG/g-128*yA/g-50)*C*Q #[cm2-m]\n",
    "print('The design hull girder section modulus at amidship is to be not less than:',max(SM1,SM2),'cm^2-m')"
   ]
  },
  {
   "cell_type": "markdown",
   "id": "e13f8d16-a030-4572-97df-2b454c65a551",
   "metadata": {},
   "source": [
    "# 11.2.1 c. Moment of inertia"
   ]
  },
  {
   "cell_type": "code",
   "execution_count": 49,
   "id": "e258fd2f-ee2a-481c-9e98-4a96e02ba2c2",
   "metadata": {},
   "outputs": [],
   "source": [
    "K = 1333 #for alu\n",
    "\n",
    "I = C1*L**3*B*(Cb+0.70)*C/K #[cm2-m2]\n",
    "print('The hull girdermoment of inertia at amidship is to be not less than:',I,'cm^2-m^2')"
   ]
  },
  {
   "cell_type": "markdown",
   "id": "dbc80e77-f399-46b9-bbdb-6a536f30ee10",
   "metadata": {},
   "source": [
    "# Section 14 \n",
    "## 14.3 Portlight and windows"
   ]
  }
 ],
 "metadata": {
  "kernelspec": {
   "display_name": "Python 3 (ipykernel)",
   "language": "python",
   "name": "python3"
  },
  "language_info": {
   "codemirror_mode": {
    "name": "ipython",
    "version": 3
   },
   "file_extension": ".py",
   "mimetype": "text/x-python",
   "name": "python",
   "nbconvert_exporter": "python",
   "pygments_lexer": "ipython3",
   "version": "3.10.13"
  }
 },
 "nbformat": 4,
 "nbformat_minor": 5
}
