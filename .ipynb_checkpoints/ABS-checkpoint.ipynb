{
 "cells": [
  {
   "cell_type": "markdown",
   "id": "b7a302cd-c488-44f0-b0de-af1701dd2d55",
   "metadata": {
    "tags": []
   },
   "source": [
    "# Formule dimensionamento secondo il registro ABS"
   ]
  },
  {
   "cell_type": "markdown",
   "id": "9844a2d7-615c-4969-a2e4-e562164d2bca",
   "metadata": {},
   "source": [
    "## Section 3 - General\n",
    "3.7.4 Steel and aluminium plating. Larghezza del pannello è quella dei rinforzi o data dalla formula seguente, qualunque sia minore:"
   ]
  },
  {
   "cell_type": "code",
   "execution_count": null,
   "id": "732c11ae-3a5e-421a-a613-dcdbc904f25d",
   "metadata": {},
   "outputs": [],
   "source": [
    "t = 0 #[mm] spessore del pannello\n",
    "w = 80*t"
   ]
  },
  {
   "cell_type": "markdown",
   "id": "39671de2-8282-4a76-818c-a153078b6a57",
   "metadata": {},
   "source": [
    "3.9 Bracket overlapping *(to be done)*"
   ]
  },
  {
   "cell_type": "markdown",
   "id": "0927e9b3-71d0-4824-b76e-55bbecc9106b",
   "metadata": {},
   "source": [
    "6.1.2 Watertight Bulkheads for vessels exceeding 15 m"
   ]
  },
  {
   "cell_type": "code",
   "execution_count": null,
   "id": "ff0dbe0d-d947-4e35-b65c-874475aea141",
   "metadata": {},
   "outputs": [],
   "source": [
    "#a. Collision bulkhead\n",
    "L = 20 #[m]\n",
    "wb_pos = 0.95*L #[m] 0.05L di distanza dalla prua"
   ]
  },
  {
   "cell_type": "markdown",
   "id": "bc4d4bd1-699f-46d0-b3b0-1769d8261ed4",
   "metadata": {
    "tags": []
   },
   "source": [
    "## Section 8  - Design pressures"
   ]
  },
  {
   "cell_type": "markdown",
   "id": "fd58f91f-e480-4190-a3c7-a0f4e019ff6a",
   "metadata": {},
   "source": [
    "8.1.1 Bottom structure design pressure"
   ]
  },
  {
   "cell_type": "code",
   "execution_count": null,
   "id": "b62ecf79-3575-4682-a875-d3987ba43c1b",
   "metadata": {},
   "outputs": [],
   "source": [
    "N1 = 0.1\n",
    "N2 = 0.0046\n",
    "k1 = 9.8\n",
    "Lw = 20 #[m] waterline length\n",
    "B = 5 #[m] beam\n",
    "tau = #[deg] running trim, always >4\n",
    "beta = 3 #[deg] deadrise angle\n",
    "V = 30 #[kn] max design speed\n",
    "disp = 0 #[kg] displacement\n",
    "n = N2*(Lw/B+1.008)*tau*(50-beta)*(V**2*B**2)/disp\n",
    "d = #[m] stationary draft, not less than 0.04L\n",
    "d_check = 0.04*L\n",
    "D = #[m] molded depth\n",
    "N = 1 #depends, check rule for details\n",
    "A_D = #[cm2] design area. For plating it is the actual area of the shell plate panel, but not to be taken more than 2s^2.\n",
    "#For longitudinal, stiffeners, transversers and girders it is the schell area supported by the longitudinal stiffener, transverse or girder, for transverses and girders the area need not to be taken less than 0.33l^2\n",
    "A_R = 9.65*disp/d #[cm2] reference area\n",
    "s = #[cm] spacing of longitudinals or stiffeners\n",
    "fig_input = A_D/A_R\n",
    "F_D =  #design area factor Fig 8.1\n",
    "F_V1 = #vertical acceleration dist. factor Fig 8.2\n",
    "F_V2 = #vertical acceleration dist. factor Fig 8.3\n",
    "\n",
    "P_b = N1*disp/(Lw*B)*(1+n)*F_D*F_V1 #[kN/m2]\n",
    "P_i = 7.5*k1*N*d*F_D*F_V2 #[kN/m2]\n",
    "P_D = 9.81*(D+1.22) #[kN/m2]\n",
    "\n",
    "P_B = max(P_b, P_i, P_D)"
   ]
  },
  {
   "cell_type": "markdown",
   "id": "1d6a01b0-6edd-4f2f-a63a-4626b7b83515",
   "metadata": {},
   "source": [
    "8.1.2 Side structure design pressure"
   ]
  },
  {
   "cell_type": "code",
   "execution_count": null,
   "id": "433c4337-881e-4021-a61b-dab05e3f5b26",
   "metadata": {},
   "outputs": [],
   "source": [
    "h = #[m] distance from lower edge of plate panel, or cener of area supported by the longitudinal or transverse, to the freeboard or main weather deck at side, but not less than 0.5D\n",
    "#P_b as 8.1.1 but with F_V1=1 when we are forward 0.45L\n",
    "\n",
    "P_S = k1*h+0.2*P_b #[kN/m2]"
   ]
  },
  {
   "cell_type": "markdown",
   "id": "29036670-a827-4c89-a9d0-5d74304817a7",
   "metadata": {},
   "source": [
    "8.1.3 Deck and deck house structure design pressure"
   ]
  },
  {
   "cell_type": "code",
   "execution_count": null,
   "id": "ad76f3d7-dda0-4deb-8fd8-27458dae73a0",
   "metadata": {},
   "outputs": [],
   "source": [
    "#as table\n",
    "P_d1 = 0.2*L+4.5 #[kN/m2] exposed main weather deck for 0.25L from forward\n",
    "P_d2 = 0.1*L+4.5 #[kN/m2] main weather deck inside enclosed houses\n",
    "P_d3 = 0.1*L+4.5 #[kN/m2] esposed superstructure deck elsewhere and internal decks\n",
    "P_d4 = 3.4 #[kN/m2] internal accomodation only decks, platform decks and house tops 2nd tier\n",
    "\n",
    "#interpolazione to be done"
   ]
  },
  {
   "cell_type": "markdown",
   "id": "090f29e3-a9fd-42e2-9599-853a34769c56",
   "metadata": {},
   "source": [
    "8.1.4 Bulkhead structure design pressure"
   ]
  },
  {
   "cell_type": "code",
   "execution_count": null,
   "id": "a59d9882-d6ee-4ff2-8f5f-210427581882",
   "metadata": {},
   "outputs": [],
   "source": [
    "del h\n",
    "h = #[m] distance from lower edge of plate panel, or cener of area supported by the stiffener, to the bulkhead deck at centerline\n",
    "P_w = k1*h #[kN/m2]"
   ]
  },
  {
   "cell_type": "markdown",
   "id": "3df780de-f029-4281-b50d-fbf72a57706a",
   "metadata": {},
   "source": [
    "# Section 9 - Hull scantlings, high speed craft\n",
    "## A - Plating\n",
    "9A.1.2 Thickness"
   ]
  },
  {
   "cell_type": "code",
   "execution_count": null,
   "id": "6962d7cc-4b30-468b-aefa-2bc11a86dff8",
   "metadata": {},
   "outputs": [],
   "source": [
    "p = #[kN/m2] design pressure from Section 8\n",
    "sigma_a = #[N/mm2] design stress Table 9A.2\n",
    "sigma_Y = #[N/mm2] yeld stress of material\n",
    "q = 235/sigma_Y\n",
    "\n",
    "t1 = s*sqrt((p*k)/(1000*sigma_a)) #[mm] all plating\n",
    "t2 = (c1+0.042*L)*sqrt(q) #[mm] strength deck and shell, L>12.2\n",
    "t3 = 0.012*s #[mm]\n",
    "t4 = 4 #[mm] for alu\n",
    "t_plating = max(t1, t2, t3, t4)"
   ]
  }
 ],
 "metadata": {
  "kernelspec": {
   "display_name": "Python 3 (ipykernel)",
   "language": "python",
   "name": "python3"
  },
  "language_info": {
   "codemirror_mode": {
    "name": "ipython",
    "version": 3
   },
   "file_extension": ".py",
   "mimetype": "text/x-python",
   "name": "python",
   "nbconvert_exporter": "python",
   "pygments_lexer": "ipython3",
   "version": "3.10.9"
  }
 },
 "nbformat": 4,
 "nbformat_minor": 5
}
