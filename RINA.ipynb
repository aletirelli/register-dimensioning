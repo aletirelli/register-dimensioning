{
 "cells": [
  {
   "cell_type": "markdown",
   "id": "d4b9ccad-ac99-4ee1-ae0c-c43c49923160",
   "metadata": {},
   "source": [
    "# Formule dimensionamento secondo il registro RINA\n",
    "## Section 1 - General requirements\n",
    "2 Definitions"
   ]
  },
  {
   "cell_type": "code",
   "execution_count": null,
   "id": "53292d88-2b88-43c0-8629-fd54e67d0650",
   "metadata": {},
   "outputs": [],
   "source": [
    "import math\n",
    "L = 20 #[m]scantling length, on the full load waterline, assumed to be equal to the length on the full load waterline with the yacht at rest;\n",
    "B = 5 #[m] maximum breadth of the yacht, outside frames\n",
    "D = 1 #[m] depth of the yacht, at half the length L, from the base line up to the deck beam of the uppermost continuous deck\n",
    "T = 1.100 #[m] draft of the yacht, at half the length L, from the base line to the full load waterline with the yacht at rest in calm water\n",
    "s = 1 #[m] spacing of the ordinary longitudinal or transverse stiffener\n",
    "disp = 44.7 #[t] displacement at draugth T\n",
    "eta = 1 #welding coefficient Table 5 p128\n",
    "R_p02 = 100 #[N/mm2] minimum guaranteed yield stress Table 1 p126. Different betwween plates and section. (meno ottimista di ABS)\n",
    "K = 110/(eta*R_p02) #factor as a function of the mechanical properties of the aluminium alloy used, as defined in Sec2.1.6.1"
   ]
  },
  {
   "cell_type": "markdown",
   "id": "5df20e5d-2d00-4ded-bbe2-97f0bc0038df",
   "metadata": {},
   "source": [
    "2.6 Minimum thickness"
   ]
  },
  {
   "cell_type": "code",
   "execution_count": null,
   "id": "8a2f0a7f-d413-4827-8c45-d9d78efe4a5f",
   "metadata": {},
   "outputs": [],
   "source": [
    "t_1=1.75*L**(1/3)*K**(0.5) #keel, bottom\n",
    "t_2=1.50*L**(1/3)*K**(0.5) #side\n",
    "t_3=1.50*L**(1/3)*K**(0.5) #open strength deck plating\n",
    "t_4=t_3-0.5 #lower deck and enclosed deck plating\n",
    "t_5=t_1 #1st tier superstructure front bulkhead\n",
    "t_6=t_5-1.5 #superstructure bukhead\n",
    "t_7=t_2-0.5 #watertight subdivision bulkhead\n",
    "t_8=t_2 #tank bulkhead\n",
    "t_9=2.3*L**(1/3)*K**(0.5) #centre girder\n",
    "t_10=1.70*L**(1/3)*K**(0.5) #floors and side girders\n",
    "print('Keel bottom plating minimum thickness:',t1,'mm')\n",
    "print('Side plating minimum thickness:',t2,'mm')\n",
    "print('Open strength deck plating minimum thickness:',t3,'mm')\n",
    "print('lower deck and enclosed deck plating minimum thickness:',t4,'mm')\n",
    "print('1st tier superstructure front bulkhead plating minimum thickness:',t5,'mm')\n",
    "print('Superstructure bukhead plating minimum thickness:',t6,'mm')\n",
    "print('Watertight subdivision bulkhead plating minimum thickness:',t7,'mm')\n",
    "print('Tank bulkhead plating minimum thickness:',t8,'mm')\n",
    "print('Centre girder minimum thickness:',t9,'mm')\n",
    "print('Foors and side girders minimum thickness:',t10,'mm')"
   ]
  },
  {
   "cell_type": "markdown",
   "id": "a2227567-ceaa-4112-b0ad-b88b7d22029a",
   "metadata": {},
   "source": [
    "## Section 4 - Loingitudinal strength\n",
    "2 Definitions"
   ]
  },
  {
   "cell_type": "code",
   "execution_count": null,
   "id": "c129e7d2-d010-45d8-b945-5c2049d27a35",
   "metadata": {},
   "outputs": [],
   "source": [
    "t = 0 #[mm] thickness\n",
    "#completare dopo"
   ]
  },
  {
   "cell_type": "code",
   "execution_count": null,
   "id": "6771bc43-a88b-4798-abb2-205a4cc4c5ce",
   "metadata": {},
   "outputs": [],
   "source": [
    "import math\n",
    "g=9.81; #[m/s**2]\n",
    "C_B=0.397;\n",
    "\n",
    "V=25; #[knots]\n",
    "\n",
    "h_db=28*B+32*(T+10); #altezza minima double bottom in [mm]\n",
    "#consideriamo valore minimo 700 mm come dice RINA\n",
    "\n",
    "#Calcolo accelerazione verticale \n",
    "C_f=0.2+((0.6/(V/L**0.5))); #>= a 0.32, ma vedi calcolo S\n",
    "S=0.65*C_f; #RINA dà un margine di 80# sul valore\n",
    "a_cg=S*(V/L**0.5); #accelerazione verticale a LCG in [m/s**2]\n",
    "\n",
    "#Calcolo momenti flettenti\n",
    "C=6+0.02*L;\n",
    "M_sh=85*C*L**2*B*(C_B+0.7)*10**-3; #momento flettente hogging acqua tranquilla\n",
    "M_ss=63*C*L**2*B*(C_B+0.7)*10**-3; #momento flettente sagging acqua tranquilla\n",
    "M_B_h=M_sh+0.95*S*C*L**2*B*C_B; #qui considero anche l'onda  [kN m]\n",
    "M_B_s=M_ss+0.55*S*C*L**2*B*(C_B+0.7); #stessa cosa [kN m]\n",
    "\n",
    "#Calcolo pressioni di progetto sul fondo\n",
    "h_0=1.100; #ATTENZIONE RIVEDERE\n",
    "a=0.036;  #ATTENZIONE RIVEDERE\n",
    "C_s=10.27;  #ATTENZIONE RIVEDERE\n",
    "F_1=1;  #ATTENZIONE RIVEDERE\n",
    "F_L=0.90; #ATTENZIONE RIVEDERE\n",
    "A_1=1;  #ATTENZIONE RIVEDERE\n",
    "F_a=0.30-0.15*math.log10(1.43*A_1*T/D);\n",
    "a_v=a_cg;\n",
    "p1=0.24*L**0.5*(1-(h_0/2*T))+10*(h_0+a*L); #pressione 1 [kN/m**2]\n",
    "p2=15*(1+a_v)*(D/(L*C_s))*g*F_L*F_1*F_a; #pressione 2 [kN/m**2]\n",
    "\n",
    "#Calcolo pressioni di progetto sui fianchi\n",
    "p=66.25*(a+0.024)*(0.15*L-h_0); #pressione in [kN/m**2]\n",
    "\n",
    "#Moduli di resistenza fondo\n",
    "k1=0.7; #perché p=p_2\n"
   ]
  }
 ],
 "metadata": {
  "kernelspec": {
   "display_name": "Python 3 (ipykernel)",
   "language": "python",
   "name": "python3"
  },
  "language_info": {
   "codemirror_mode": {
    "name": "ipython",
    "version": 3
   },
   "file_extension": ".py",
   "mimetype": "text/x-python",
   "name": "python",
   "nbconvert_exporter": "python",
   "pygments_lexer": "ipython3",
   "version": "3.9.18"
  }
 },
 "nbformat": 4,
 "nbformat_minor": 5
}
